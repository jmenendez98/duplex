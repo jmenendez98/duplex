{
 "cells": [
  {
   "cell_type": "code",
   "execution_count": 36,
   "metadata": {},
   "outputs": [],
   "source": [
    "import pysam\n",
    "import numpy as np\n",
    "import pandas as pd\n",
    "import matplotlib.pyplot as plt\n",
    "\n",
    "from collections import defaultdict"
   ]
  },
  {
   "cell_type": "code",
   "execution_count": 37,
   "metadata": {},
   "outputs": [],
   "source": [
    "duplex_path = \"test_duplex.bam\"\n",
    "\n",
    "output_path = \"test_duplex_output.bed\""
   ]
  },
  {
   "cell_type": "code",
   "execution_count": 38,
   "metadata": {},
   "outputs": [],
   "source": [
    "with pysam.AlignmentFile(duplex_path, \"rb\") as bam:\n",
    "\n",
    "    strand_convert = {0:'+', 1:'-'}\n",
    "    strand_to_color = {0:'255,182,193', 1:'100,149,237'}\n",
    "\n",
    "    bed12_entries = []\n",
    "\n",
    "    # Iterate over alignments\n",
    "    for read in bam:\n",
    "\n",
    "        # dict to hold modification type (ex m/a)\n",
    "        mod_dict = defaultdict(lambda: defaultdict(list))\n",
    "\n",
    "        if read.modified_bases_forward:\n",
    "            for mod in read.modified_bases.keys(): # through the different types of mods\n",
    "                mod_type = mod[2]\n",
    "                strand = mod[1]\n",
    "                print()\n",
    "                for mod_site in read.modified_bases[mod]: # through each mod_base_forward\n",
    "                    if mod_site[1] > 204 and mod_site[0] < read.query_alignment_end and mod_site[0] > read.query_alignment_start: # ML threshold\n",
    "                        mod_dict[mod_type][strand].append( mod_site[0] - read.query_alignment_start )\n",
    "                        #print( read.query_name, mod_type, strand )\n",
    "\n",
    "            \n",
    "            for side in mod_dict['m']:\n",
    "                bed12_entry = \"\"\n",
    "                bed12_entry += \"\\t\".join([str(read.reference_name), str(read.query_alignment_start), str(read.query_alignment_end), \n",
    "                                          str(read.query_name), \"0\", str(strand_convert[side]), \n",
    "                                          str(read.query_alignment_start), str(read.query_alignment_end), str(strand_to_color[side]),\n",
    "                                          str(len(mod_dict['m'][side])+2), \"0,\" + \"1,\"*(len(mod_dict['m'][side])) + '1', '0,' + ','.join(map(str, sorted(mod_dict['m'][side]))) + f',{str(read.query_alignment_end-1)}' ]) + \"\\n\"\n",
    "                print( len(mod_dict['m'][side]) )\n",
    "                bed12_entries.append( bed12_entry )\n",
    "                "
   ]
  },
  {
   "cell_type": "code",
   "execution_count": 39,
   "metadata": {},
   "outputs": [],
   "source": [
    "#str(len(mod_dict['m'][side])+2), \"0,\" +\"1,\"*len(mod_dict['m'][side]) + \"1,\", f'{str(read.query_alignment_start)},' + ','.join(map(str, sorted(mod_dict['m'][side]))) + f',{str(read.query_alignment_end-2)}' ]) + \"\\n\""
   ]
  },
  {
   "cell_type": "code",
   "execution_count": 40,
   "metadata": {},
   "outputs": [
    {
     "name": "stdout",
     "output_type": "stream",
     "text": [
      "The string has been written to test_duplex_output.bed\n"
     ]
    }
   ],
   "source": [
    "with open(output_path, \"w\") as file:\n",
    "    for line in bed12_entries:\n",
    "        file.write(line)\n",
    "        print( line )\n",
    "\n",
    "    print(f\"The string has been written to {output_path}\")"
   ]
  }
 ],
 "metadata": {
  "kernelspec": {
   "display_name": "python3",
   "language": "python",
   "name": "python3"
  },
  "language_info": {
   "codemirror_mode": {
    "name": "ipython",
    "version": 3
   },
   "file_extension": ".py",
   "mimetype": "text/x-python",
   "name": "python",
   "nbconvert_exporter": "python",
   "pygments_lexer": "ipython3",
   "version": "3.10.14"
  }
 },
 "nbformat": 4,
 "nbformat_minor": 2
}
